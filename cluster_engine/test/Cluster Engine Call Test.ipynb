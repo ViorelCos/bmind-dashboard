{
 "cells": [
  {
   "cell_type": "markdown",
   "metadata": {},
   "source": [
    "### Intelligente Catalog | Cluster Engine Call Test"
   ]
  },
  {
   "cell_type": "markdown",
   "metadata": {},
   "source": [
    "A basic Cluster Engine call test based on file sample_test.json - 1K rows."
   ]
  },
  {
   "cell_type": "code",
   "execution_count": 1,
   "metadata": {},
   "outputs": [
    {
     "name": "stderr",
     "output_type": "stream",
     "text": [
      "C:\\Users\\marcelo.oliveira\\Anaconda3\\lib\\site-packages\\gensim\\utils.py:862: UserWarning: detected Windows; aliasing chunkize to chunkize_serial\n",
      "  warnings.warn(\"detected Windows; aliasing chunkize to chunkize_serial\")\n"
     ]
    },
    {
     "name": "stdout",
     "output_type": "stream",
     "text": [
      "2018-02-02 17:28:08.520461 | Initializing process...\n",
      "2018-02-02 17:28:08.520461 | Process Catalog for \\sample_test.json, with columns NAME\n",
      "\n",
      "2018-02-02 17:28:08.520461 | Reading File...\n",
      "2018-02-02 17:28:08.575499 | \\sample_test.json read!\n",
      "2018-02-02 17:28:08.575499 | Creating Model...\n",
      "2018-02-02 17:28:08.796657 | Model created!\n",
      "2018-02-02 17:28:08.806665 | Creating Relative Dictionary...\n",
      "2018-02-02 17:28:08.954789 | Relative Dictionary created!\n",
      "2018-02-02 17:28:08.954789 | Processing Clusters...\n",
      "2018-02-02 17:28:09.238974 | Clusters created!\n",
      "2018-02-02 17:28:09.238974 | Saving Clusters...\n",
      "2018-02-02 17:28:09.256987 | Clusters saved \n",
      "0\n"
     ]
    }
   ],
   "source": [
    "import os\n",
    "import pandas as pd\n",
    "from cluster_engine.process import process_catalog\n",
    "from intelligent_catalog_service.catalog import Catalog\n",
    "\n",
    "dir = os.getcwd()\n",
    "\n",
    "settings = {\n",
    "\t'check': {'interval': 0, 'checkcode': 0},\n",
    "\t'input_type': '',\n",
    "\t'input_settings': '',\n",
    "\t'internal_file_name': '\\sample_test.json',\n",
    "\t'internal_storage_path': dir,\n",
    "\t'index_features': 'NAME',\n",
    "\t'ui_features': '',\n",
    "\t'output_type': '',\n",
    "\t'output_settings': '',\n",
    "\t}\n",
    "\n",
    "catalog = Catalog(settings)\n",
    "\n",
    "result = process_catalog(catalog)\n",
    "\n",
    "print(result)"
   ]
  }
 ],
 "metadata": {
  "kernelspec": {
   "display_name": "Python 3",
   "language": "python",
   "name": "python3"
  },
  "language_info": {
   "codemirror_mode": {
    "name": "ipython",
    "version": 3
   },
   "file_extension": ".py",
   "mimetype": "text/x-python",
   "name": "python",
   "nbconvert_exporter": "python",
   "pygments_lexer": "ipython3",
   "version": "3.6.3"
  }
 },
 "nbformat": 4,
 "nbformat_minor": 2
}
